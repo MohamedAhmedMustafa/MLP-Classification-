{
  "cells": [
    {
      "cell_type": "code",
      "execution_count": 1,
      "metadata": {
        "id": "hQHQeUNJAo1e"
      },
      "outputs": [],
      "source": [
        "import tensorflow as tf\n",
        "from tensorflow.keras.datasets import cifar100\n",
        "from tensorflow.keras.models import Sequential\n",
        "from tensorflow.keras.layers import Dense\n",
        "from tensorflow.keras.utils import to_categorical"
      ]
    },
    {
      "cell_type": "code",
      "execution_count": 2,
      "metadata": {
        "id": "xeDC22f2AuRm",
        "colab": {
          "base_uri": "https://localhost:8080/"
        },
        "outputId": "391ff02e-4704-4f77-a812-429c627dee1b"
      },
      "outputs": [
        {
          "output_type": "stream",
          "name": "stdout",
          "text": [
            "Downloading data from https://www.cs.toronto.edu/~kriz/cifar-100-python.tar.gz\n",
            "\u001b[1m169001437/169001437\u001b[0m \u001b[32m━━━━━━━━━━━━━━━━━━━━\u001b[0m\u001b[37m\u001b[0m \u001b[1m6s\u001b[0m 0us/step\n",
            "Training data shape: (50000, 32, 32, 3)\n",
            "Test data shape: (10000, 32, 32, 3)\n"
          ]
        }
      ],
      "source": [
        "# Load the MNIST dataset\n",
        "(X_train, y_train), (X_test, y_test) = cifar100.load_data()\n",
        "\n",
        "# Print shapes of the data\n",
        "print(f'Training data shape: {X_train.shape}')\n",
        "print(f'Test data shape: {X_test.shape}')"
      ]
    },
    {
      "cell_type": "code",
      "execution_count": 3,
      "metadata": {
        "id": "QynBAgsgA0mk"
      },
      "outputs": [],
      "source": [
        "# Flatten the 28x28 images into vectors of size 784\n",
        "X_train = X_train.reshape((X_train.shape[0], 32 * 32 * 3)).astype('float32')\n",
        "X_test = X_test.reshape((X_test.shape[0], 32 * 32 * 3)).astype('float32')\n",
        "\n",
        "# Normalize the pixel values to [0, 1]\n",
        "X_train /= 255.0\n",
        "X_test /= 255.0"
      ]
    },
    {
      "cell_type": "code",
      "execution_count": 4,
      "metadata": {
        "id": "kkHCmkQTBlQk",
        "colab": {
          "base_uri": "https://localhost:8080/"
        },
        "outputId": "e4896821-cf65-40f7-b209-648ac7efc050"
      },
      "outputs": [
        {
          "output_type": "stream",
          "name": "stderr",
          "text": [
            "/usr/local/lib/python3.10/dist-packages/keras/src/layers/core/dense.py:87: UserWarning: Do not pass an `input_shape`/`input_dim` argument to a layer. When using Sequential models, prefer using an `Input(shape)` object as the first layer in the model instead.\n",
            "  super().__init__(activity_regularizer=activity_regularizer, **kwargs)\n"
          ]
        }
      ],
      "source": [
        "# Build the MLP model\n",
        "model = Sequential()\n",
        "\n",
        "# Add input layer and a hidden layer\n",
        "model.add(Dense(512, activation='relu', input_shape=(32 * 32 * 3,)))  # Input size is 784 (28x28 flattened)\n",
        "model.add(Dense(256, activation='relu'))  # Hidden layer\n",
        "model.add(Dense(128, activation='relu'))  # Hidden layer\n",
        "model.add(Dense(100, activation='softmax'))  # Output layer (10 units for 10 classes)"
      ]
    },
    {
      "cell_type": "code",
      "execution_count": 5,
      "metadata": {
        "colab": {
          "base_uri": "https://localhost:8080/",
          "height": 272
        },
        "id": "Z9Dr1i78BuVl",
        "outputId": "df0fc564-37cc-4589-b47b-69c02cd5cc9f"
      },
      "outputs": [
        {
          "output_type": "display_data",
          "data": {
            "text/plain": [
              "\u001b[1mModel: \"sequential\"\u001b[0m\n"
            ],
            "text/html": [
              "<pre style=\"white-space:pre;overflow-x:auto;line-height:normal;font-family:Menlo,'DejaVu Sans Mono',consolas,'Courier New',monospace\"><span style=\"font-weight: bold\">Model: \"sequential\"</span>\n",
              "</pre>\n"
            ]
          },
          "metadata": {}
        },
        {
          "output_type": "display_data",
          "data": {
            "text/plain": [
              "┏━━━━━━━━━━━━━━━━━━━━━━━━━━━━━━━━━━━━━━┳━━━━━━━━━━━━━━━━━━━━━━━━━━━━━┳━━━━━━━━━━━━━━━━━┓\n",
              "┃\u001b[1m \u001b[0m\u001b[1mLayer (type)                        \u001b[0m\u001b[1m \u001b[0m┃\u001b[1m \u001b[0m\u001b[1mOutput Shape               \u001b[0m\u001b[1m \u001b[0m┃\u001b[1m \u001b[0m\u001b[1m        Param #\u001b[0m\u001b[1m \u001b[0m┃\n",
              "┡━━━━━━━━━━━━━━━━━━━━━━━━━━━━━━━━━━━━━━╇━━━━━━━━━━━━━━━━━━━━━━━━━━━━━╇━━━━━━━━━━━━━━━━━┩\n",
              "│ dense (\u001b[38;5;33mDense\u001b[0m)                        │ (\u001b[38;5;45mNone\u001b[0m, \u001b[38;5;34m512\u001b[0m)                 │       \u001b[38;5;34m1,573,376\u001b[0m │\n",
              "├──────────────────────────────────────┼─────────────────────────────┼─────────────────┤\n",
              "│ dense_1 (\u001b[38;5;33mDense\u001b[0m)                      │ (\u001b[38;5;45mNone\u001b[0m, \u001b[38;5;34m256\u001b[0m)                 │         \u001b[38;5;34m131,328\u001b[0m │\n",
              "├──────────────────────────────────────┼─────────────────────────────┼─────────────────┤\n",
              "│ dense_2 (\u001b[38;5;33mDense\u001b[0m)                      │ (\u001b[38;5;45mNone\u001b[0m, \u001b[38;5;34m128\u001b[0m)                 │          \u001b[38;5;34m32,896\u001b[0m │\n",
              "├──────────────────────────────────────┼─────────────────────────────┼─────────────────┤\n",
              "│ dense_3 (\u001b[38;5;33mDense\u001b[0m)                      │ (\u001b[38;5;45mNone\u001b[0m, \u001b[38;5;34m100\u001b[0m)                 │          \u001b[38;5;34m12,900\u001b[0m │\n",
              "└──────────────────────────────────────┴─────────────────────────────┴─────────────────┘\n"
            ],
            "text/html": [
              "<pre style=\"white-space:pre;overflow-x:auto;line-height:normal;font-family:Menlo,'DejaVu Sans Mono',consolas,'Courier New',monospace\">┏━━━━━━━━━━━━━━━━━━━━━━━━━━━━━━━━━━━━━━┳━━━━━━━━━━━━━━━━━━━━━━━━━━━━━┳━━━━━━━━━━━━━━━━━┓\n",
              "┃<span style=\"font-weight: bold\"> Layer (type)                         </span>┃<span style=\"font-weight: bold\"> Output Shape                </span>┃<span style=\"font-weight: bold\">         Param # </span>┃\n",
              "┡━━━━━━━━━━━━━━━━━━━━━━━━━━━━━━━━━━━━━━╇━━━━━━━━━━━━━━━━━━━━━━━━━━━━━╇━━━━━━━━━━━━━━━━━┩\n",
              "│ dense (<span style=\"color: #0087ff; text-decoration-color: #0087ff\">Dense</span>)                        │ (<span style=\"color: #00d7ff; text-decoration-color: #00d7ff\">None</span>, <span style=\"color: #00af00; text-decoration-color: #00af00\">512</span>)                 │       <span style=\"color: #00af00; text-decoration-color: #00af00\">1,573,376</span> │\n",
              "├──────────────────────────────────────┼─────────────────────────────┼─────────────────┤\n",
              "│ dense_1 (<span style=\"color: #0087ff; text-decoration-color: #0087ff\">Dense</span>)                      │ (<span style=\"color: #00d7ff; text-decoration-color: #00d7ff\">None</span>, <span style=\"color: #00af00; text-decoration-color: #00af00\">256</span>)                 │         <span style=\"color: #00af00; text-decoration-color: #00af00\">131,328</span> │\n",
              "├──────────────────────────────────────┼─────────────────────────────┼─────────────────┤\n",
              "│ dense_2 (<span style=\"color: #0087ff; text-decoration-color: #0087ff\">Dense</span>)                      │ (<span style=\"color: #00d7ff; text-decoration-color: #00d7ff\">None</span>, <span style=\"color: #00af00; text-decoration-color: #00af00\">128</span>)                 │          <span style=\"color: #00af00; text-decoration-color: #00af00\">32,896</span> │\n",
              "├──────────────────────────────────────┼─────────────────────────────┼─────────────────┤\n",
              "│ dense_3 (<span style=\"color: #0087ff; text-decoration-color: #0087ff\">Dense</span>)                      │ (<span style=\"color: #00d7ff; text-decoration-color: #00d7ff\">None</span>, <span style=\"color: #00af00; text-decoration-color: #00af00\">100</span>)                 │          <span style=\"color: #00af00; text-decoration-color: #00af00\">12,900</span> │\n",
              "└──────────────────────────────────────┴─────────────────────────────┴─────────────────┘\n",
              "</pre>\n"
            ]
          },
          "metadata": {}
        },
        {
          "output_type": "display_data",
          "data": {
            "text/plain": [
              "\u001b[1m Total params: \u001b[0m\u001b[38;5;34m1,750,500\u001b[0m (6.68 MB)\n"
            ],
            "text/html": [
              "<pre style=\"white-space:pre;overflow-x:auto;line-height:normal;font-family:Menlo,'DejaVu Sans Mono',consolas,'Courier New',monospace\"><span style=\"font-weight: bold\"> Total params: </span><span style=\"color: #00af00; text-decoration-color: #00af00\">1,750,500</span> (6.68 MB)\n",
              "</pre>\n"
            ]
          },
          "metadata": {}
        },
        {
          "output_type": "display_data",
          "data": {
            "text/plain": [
              "\u001b[1m Trainable params: \u001b[0m\u001b[38;5;34m1,750,500\u001b[0m (6.68 MB)\n"
            ],
            "text/html": [
              "<pre style=\"white-space:pre;overflow-x:auto;line-height:normal;font-family:Menlo,'DejaVu Sans Mono',consolas,'Courier New',monospace\"><span style=\"font-weight: bold\"> Trainable params: </span><span style=\"color: #00af00; text-decoration-color: #00af00\">1,750,500</span> (6.68 MB)\n",
              "</pre>\n"
            ]
          },
          "metadata": {}
        },
        {
          "output_type": "display_data",
          "data": {
            "text/plain": [
              "\u001b[1m Non-trainable params: \u001b[0m\u001b[38;5;34m0\u001b[0m (0.00 B)\n"
            ],
            "text/html": [
              "<pre style=\"white-space:pre;overflow-x:auto;line-height:normal;font-family:Menlo,'DejaVu Sans Mono',consolas,'Courier New',monospace\"><span style=\"font-weight: bold\"> Non-trainable params: </span><span style=\"color: #00af00; text-decoration-color: #00af00\">0</span> (0.00 B)\n",
              "</pre>\n"
            ]
          },
          "metadata": {}
        }
      ],
      "source": [
        "model.summary()"
      ]
    },
    {
      "cell_type": "code",
      "execution_count": 6,
      "metadata": {
        "colab": {
          "base_uri": "https://localhost:8080/"
        },
        "id": "oNq6iRYqB1Vk",
        "outputId": "a3ed2c91-cc23-4f6a-eea4-3b3844fb3f4c"
      },
      "outputs": [
        {
          "output_type": "stream",
          "name": "stdout",
          "text": [
            "Epoch 1/50\n",
            "\u001b[1m391/391\u001b[0m \u001b[32m━━━━━━━━━━━━━━━━━━━━\u001b[0m\u001b[37m\u001b[0m \u001b[1m15s\u001b[0m 18ms/step - accuracy: 0.0393 - loss: 4.3933 - val_accuracy: 0.0987 - val_loss: 3.8941\n",
            "Epoch 2/50\n",
            "\u001b[1m391/391\u001b[0m \u001b[32m━━━━━━━━━━━━━━━━━━━━\u001b[0m\u001b[37m\u001b[0m \u001b[1m2s\u001b[0m 5ms/step - accuracy: 0.1158 - loss: 3.8036 - val_accuracy: 0.1456 - val_loss: 3.6793\n",
            "Epoch 3/50\n",
            "\u001b[1m391/391\u001b[0m \u001b[32m━━━━━━━━━━━━━━━━━━━━\u001b[0m\u001b[37m\u001b[0m \u001b[1m2s\u001b[0m 4ms/step - accuracy: 0.1523 - loss: 3.6063 - val_accuracy: 0.1590 - val_loss: 3.5831\n",
            "Epoch 4/50\n",
            "\u001b[1m391/391\u001b[0m \u001b[32m━━━━━━━━━━━━━━━━━━━━\u001b[0m\u001b[37m\u001b[0m \u001b[1m3s\u001b[0m 5ms/step - accuracy: 0.1702 - loss: 3.4778 - val_accuracy: 0.1788 - val_loss: 3.4765\n",
            "Epoch 5/50\n",
            "\u001b[1m391/391\u001b[0m \u001b[32m━━━━━━━━━━━━━━━━━━━━\u001b[0m\u001b[37m\u001b[0m \u001b[1m2s\u001b[0m 5ms/step - accuracy: 0.1924 - loss: 3.3831 - val_accuracy: 0.1888 - val_loss: 3.4400\n",
            "Epoch 6/50\n",
            "\u001b[1m391/391\u001b[0m \u001b[32m━━━━━━━━━━━━━━━━━━━━\u001b[0m\u001b[37m\u001b[0m \u001b[1m1s\u001b[0m 3ms/step - accuracy: 0.2026 - loss: 3.3052 - val_accuracy: 0.1836 - val_loss: 3.4560\n",
            "Epoch 7/50\n",
            "\u001b[1m391/391\u001b[0m \u001b[32m━━━━━━━━━━━━━━━━━━━━\u001b[0m\u001b[37m\u001b[0m \u001b[1m2s\u001b[0m 3ms/step - accuracy: 0.2189 - loss: 3.2328 - val_accuracy: 0.2033 - val_loss: 3.3481\n",
            "Epoch 8/50\n",
            "\u001b[1m391/391\u001b[0m \u001b[32m━━━━━━━━━━━━━━━━━━━━\u001b[0m\u001b[37m\u001b[0m \u001b[1m1s\u001b[0m 3ms/step - accuracy: 0.2282 - loss: 3.1732 - val_accuracy: 0.2100 - val_loss: 3.3220\n",
            "Epoch 9/50\n",
            "\u001b[1m391/391\u001b[0m \u001b[32m━━━━━━━━━━━━━━━━━━━━\u001b[0m\u001b[37m\u001b[0m \u001b[1m2s\u001b[0m 4ms/step - accuracy: 0.2423 - loss: 3.1017 - val_accuracy: 0.2058 - val_loss: 3.3644\n",
            "Epoch 10/50\n",
            "\u001b[1m391/391\u001b[0m \u001b[32m━━━━━━━━━━━━━━━━━━━━\u001b[0m\u001b[37m\u001b[0m \u001b[1m2s\u001b[0m 4ms/step - accuracy: 0.2492 - loss: 3.0573 - val_accuracy: 0.2114 - val_loss: 3.3137\n",
            "Epoch 11/50\n",
            "\u001b[1m391/391\u001b[0m \u001b[32m━━━━━━━━━━━━━━━━━━━━\u001b[0m\u001b[37m\u001b[0m \u001b[1m1s\u001b[0m 4ms/step - accuracy: 0.2543 - loss: 3.0184 - val_accuracy: 0.2207 - val_loss: 3.2750\n",
            "Epoch 12/50\n",
            "\u001b[1m391/391\u001b[0m \u001b[32m━━━━━━━━━━━━━━━━━━━━\u001b[0m\u001b[37m\u001b[0m \u001b[1m2s\u001b[0m 4ms/step - accuracy: 0.2634 - loss: 2.9770 - val_accuracy: 0.2141 - val_loss: 3.3312\n",
            "Epoch 13/50\n",
            "\u001b[1m391/391\u001b[0m \u001b[32m━━━━━━━━━━━━━━━━━━━━\u001b[0m\u001b[37m\u001b[0m \u001b[1m2s\u001b[0m 3ms/step - accuracy: 0.2707 - loss: 2.9302 - val_accuracy: 0.2275 - val_loss: 3.2302\n",
            "Epoch 14/50\n",
            "\u001b[1m391/391\u001b[0m \u001b[32m━━━━━━━━━━━━━━━━━━━━\u001b[0m\u001b[37m\u001b[0m \u001b[1m1s\u001b[0m 3ms/step - accuracy: 0.2750 - loss: 2.8970 - val_accuracy: 0.2263 - val_loss: 3.2501\n",
            "Epoch 15/50\n",
            "\u001b[1m391/391\u001b[0m \u001b[32m━━━━━━━━━━━━━━━━━━━━\u001b[0m\u001b[37m\u001b[0m \u001b[1m1s\u001b[0m 3ms/step - accuracy: 0.2807 - loss: 2.8680 - val_accuracy: 0.2294 - val_loss: 3.2492\n",
            "Epoch 16/50\n",
            "\u001b[1m391/391\u001b[0m \u001b[32m━━━━━━━━━━━━━━━━━━━━\u001b[0m\u001b[37m\u001b[0m \u001b[1m1s\u001b[0m 4ms/step - accuracy: 0.2872 - loss: 2.8339 - val_accuracy: 0.2349 - val_loss: 3.2477\n",
            "Epoch 17/50\n",
            "\u001b[1m391/391\u001b[0m \u001b[32m━━━━━━━━━━━━━━━━━━━━\u001b[0m\u001b[37m\u001b[0m \u001b[1m3s\u001b[0m 4ms/step - accuracy: 0.2986 - loss: 2.7870 - val_accuracy: 0.2293 - val_loss: 3.2715\n",
            "Epoch 18/50\n",
            "\u001b[1m391/391\u001b[0m \u001b[32m━━━━━━━━━━━━━━━━━━━━\u001b[0m\u001b[37m\u001b[0m \u001b[1m1s\u001b[0m 3ms/step - accuracy: 0.3047 - loss: 2.7531 - val_accuracy: 0.2309 - val_loss: 3.2825\n",
            "Epoch 19/50\n",
            "\u001b[1m391/391\u001b[0m \u001b[32m━━━━━━━━━━━━━━━━━━━━\u001b[0m\u001b[37m\u001b[0m \u001b[1m1s\u001b[0m 3ms/step - accuracy: 0.3118 - loss: 2.7333 - val_accuracy: 0.2298 - val_loss: 3.3009\n",
            "Epoch 20/50\n",
            "\u001b[1m391/391\u001b[0m \u001b[32m━━━━━━━━━━━━━━━━━━━━\u001b[0m\u001b[37m\u001b[0m \u001b[1m1s\u001b[0m 3ms/step - accuracy: 0.3179 - loss: 2.6880 - val_accuracy: 0.2314 - val_loss: 3.3337\n",
            "Epoch 21/50\n",
            "\u001b[1m391/391\u001b[0m \u001b[32m━━━━━━━━━━━━━━━━━━━━\u001b[0m\u001b[37m\u001b[0m \u001b[1m1s\u001b[0m 3ms/step - accuracy: 0.3255 - loss: 2.6629 - val_accuracy: 0.2295 - val_loss: 3.3019\n",
            "Epoch 22/50\n",
            "\u001b[1m391/391\u001b[0m \u001b[32m━━━━━━━━━━━━━━━━━━━━\u001b[0m\u001b[37m\u001b[0m \u001b[1m1s\u001b[0m 3ms/step - accuracy: 0.3317 - loss: 2.6302 - val_accuracy: 0.2382 - val_loss: 3.3077\n",
            "Epoch 23/50\n",
            "\u001b[1m391/391\u001b[0m \u001b[32m━━━━━━━━━━━━━━━━━━━━\u001b[0m\u001b[37m\u001b[0m \u001b[1m1s\u001b[0m 4ms/step - accuracy: 0.3365 - loss: 2.6030 - val_accuracy: 0.2353 - val_loss: 3.3421\n",
            "Epoch 24/50\n",
            "\u001b[1m391/391\u001b[0m \u001b[32m━━━━━━━━━━━━━━━━━━━━\u001b[0m\u001b[37m\u001b[0m \u001b[1m1s\u001b[0m 3ms/step - accuracy: 0.3448 - loss: 2.5613 - val_accuracy: 0.2302 - val_loss: 3.3389\n",
            "Epoch 25/50\n",
            "\u001b[1m391/391\u001b[0m \u001b[32m━━━━━━━━━━━━━━━━━━━━\u001b[0m\u001b[37m\u001b[0m \u001b[1m2s\u001b[0m 4ms/step - accuracy: 0.3464 - loss: 2.5542 - val_accuracy: 0.2330 - val_loss: 3.3363\n",
            "Epoch 26/50\n",
            "\u001b[1m391/391\u001b[0m \u001b[32m━━━━━━━━━━━━━━━━━━━━\u001b[0m\u001b[37m\u001b[0m \u001b[1m2s\u001b[0m 4ms/step - accuracy: 0.3589 - loss: 2.4974 - val_accuracy: 0.2322 - val_loss: 3.3639\n",
            "Epoch 27/50\n",
            "\u001b[1m391/391\u001b[0m \u001b[32m━━━━━━━━━━━━━━━━━━━━\u001b[0m\u001b[37m\u001b[0m \u001b[1m2s\u001b[0m 3ms/step - accuracy: 0.3565 - loss: 2.5017 - val_accuracy: 0.2334 - val_loss: 3.3954\n",
            "Epoch 28/50\n",
            "\u001b[1m391/391\u001b[0m \u001b[32m━━━━━━━━━━━━━━━━━━━━\u001b[0m\u001b[37m\u001b[0m \u001b[1m1s\u001b[0m 3ms/step - accuracy: 0.3719 - loss: 2.4439 - val_accuracy: 0.2296 - val_loss: 3.4337\n",
            "Epoch 29/50\n",
            "\u001b[1m391/391\u001b[0m \u001b[32m━━━━━━━━━━━━━━━━━━━━\u001b[0m\u001b[37m\u001b[0m \u001b[1m1s\u001b[0m 3ms/step - accuracy: 0.3666 - loss: 2.4499 - val_accuracy: 0.2362 - val_loss: 3.4306\n",
            "Epoch 30/50\n",
            "\u001b[1m391/391\u001b[0m \u001b[32m━━━━━━━━━━━━━━━━━━━━\u001b[0m\u001b[37m\u001b[0m \u001b[1m1s\u001b[0m 3ms/step - accuracy: 0.3749 - loss: 2.4121 - val_accuracy: 0.2380 - val_loss: 3.4260\n",
            "Epoch 31/50\n",
            "\u001b[1m391/391\u001b[0m \u001b[32m━━━━━━━━━━━━━━━━━━━━\u001b[0m\u001b[37m\u001b[0m \u001b[1m1s\u001b[0m 3ms/step - accuracy: 0.3841 - loss: 2.3832 - val_accuracy: 0.2345 - val_loss: 3.4614\n",
            "Epoch 32/50\n",
            "\u001b[1m391/391\u001b[0m \u001b[32m━━━━━━━━━━━━━━━━━━━━\u001b[0m\u001b[37m\u001b[0m \u001b[1m1s\u001b[0m 4ms/step - accuracy: 0.3841 - loss: 2.3754 - val_accuracy: 0.2358 - val_loss: 3.5006\n",
            "Epoch 33/50\n",
            "\u001b[1m391/391\u001b[0m \u001b[32m━━━━━━━━━━━━━━━━━━━━\u001b[0m\u001b[37m\u001b[0m \u001b[1m1s\u001b[0m 4ms/step - accuracy: 0.3957 - loss: 2.3239 - val_accuracy: 0.2319 - val_loss: 3.4879\n",
            "Epoch 34/50\n",
            "\u001b[1m391/391\u001b[0m \u001b[32m━━━━━━━━━━━━━━━━━━━━\u001b[0m\u001b[37m\u001b[0m \u001b[1m3s\u001b[0m 4ms/step - accuracy: 0.3977 - loss: 2.3192 - val_accuracy: 0.2300 - val_loss: 3.5112\n",
            "Epoch 35/50\n",
            "\u001b[1m391/391\u001b[0m \u001b[32m━━━━━━━━━━━━━━━━━━━━\u001b[0m\u001b[37m\u001b[0m \u001b[1m2s\u001b[0m 3ms/step - accuracy: 0.4098 - loss: 2.2693 - val_accuracy: 0.2332 - val_loss: 3.5226\n",
            "Epoch 36/50\n",
            "\u001b[1m391/391\u001b[0m \u001b[32m━━━━━━━━━━━━━━━━━━━━\u001b[0m\u001b[37m\u001b[0m \u001b[1m1s\u001b[0m 3ms/step - accuracy: 0.4109 - loss: 2.2617 - val_accuracy: 0.2352 - val_loss: 3.5641\n",
            "Epoch 37/50\n",
            "\u001b[1m391/391\u001b[0m \u001b[32m━━━━━━━━━━━━━━━━━━━━\u001b[0m\u001b[37m\u001b[0m \u001b[1m1s\u001b[0m 3ms/step - accuracy: 0.4153 - loss: 2.2399 - val_accuracy: 0.2264 - val_loss: 3.5887\n",
            "Epoch 38/50\n",
            "\u001b[1m391/391\u001b[0m \u001b[32m━━━━━━━━━━━━━━━━━━━━\u001b[0m\u001b[37m\u001b[0m \u001b[1m3s\u001b[0m 3ms/step - accuracy: 0.4190 - loss: 2.2155 - val_accuracy: 0.2276 - val_loss: 3.6271\n",
            "Epoch 39/50\n",
            "\u001b[1m391/391\u001b[0m \u001b[32m━━━━━━━━━━━━━━━━━━━━\u001b[0m\u001b[37m\u001b[0m \u001b[1m1s\u001b[0m 3ms/step - accuracy: 0.4246 - loss: 2.2028 - val_accuracy: 0.2261 - val_loss: 3.7037\n",
            "Epoch 40/50\n",
            "\u001b[1m391/391\u001b[0m \u001b[32m━━━━━━━━━━━━━━━━━━━━\u001b[0m\u001b[37m\u001b[0m \u001b[1m3s\u001b[0m 4ms/step - accuracy: 0.4293 - loss: 2.1795 - val_accuracy: 0.2215 - val_loss: 3.7389\n",
            "Epoch 41/50\n",
            "\u001b[1m391/391\u001b[0m \u001b[32m━━━━━━━━━━━━━━━━━━━━\u001b[0m\u001b[37m\u001b[0m \u001b[1m2s\u001b[0m 4ms/step - accuracy: 0.4289 - loss: 2.1862 - val_accuracy: 0.2222 - val_loss: 3.7954\n",
            "Epoch 42/50\n",
            "\u001b[1m391/391\u001b[0m \u001b[32m━━━━━━━━━━━━━━━━━━━━\u001b[0m\u001b[37m\u001b[0m \u001b[1m2s\u001b[0m 3ms/step - accuracy: 0.4325 - loss: 2.1476 - val_accuracy: 0.2308 - val_loss: 3.7083\n",
            "Epoch 43/50\n",
            "\u001b[1m391/391\u001b[0m \u001b[32m━━━━━━━━━━━━━━━━━━━━\u001b[0m\u001b[37m\u001b[0m \u001b[1m1s\u001b[0m 3ms/step - accuracy: 0.4411 - loss: 2.1255 - val_accuracy: 0.2235 - val_loss: 3.8243\n",
            "Epoch 44/50\n",
            "\u001b[1m391/391\u001b[0m \u001b[32m━━━━━━━━━━━━━━━━━━━━\u001b[0m\u001b[37m\u001b[0m \u001b[1m1s\u001b[0m 3ms/step - accuracy: 0.4465 - loss: 2.0987 - val_accuracy: 0.2216 - val_loss: 3.7918\n",
            "Epoch 45/50\n",
            "\u001b[1m391/391\u001b[0m \u001b[32m━━━━━━━━━━━━━━━━━━━━\u001b[0m\u001b[37m\u001b[0m \u001b[1m1s\u001b[0m 3ms/step - accuracy: 0.4482 - loss: 2.0954 - val_accuracy: 0.2284 - val_loss: 3.7490\n",
            "Epoch 46/50\n",
            "\u001b[1m391/391\u001b[0m \u001b[32m━━━━━━━━━━━━━━━━━━━━\u001b[0m\u001b[37m\u001b[0m \u001b[1m1s\u001b[0m 3ms/step - accuracy: 0.4540 - loss: 2.0568 - val_accuracy: 0.2222 - val_loss: 3.9002\n",
            "Epoch 47/50\n",
            "\u001b[1m391/391\u001b[0m \u001b[32m━━━━━━━━━━━━━━━━━━━━\u001b[0m\u001b[37m\u001b[0m \u001b[1m1s\u001b[0m 4ms/step - accuracy: 0.4544 - loss: 2.0681 - val_accuracy: 0.2267 - val_loss: 3.9089\n",
            "Epoch 48/50\n",
            "\u001b[1m391/391\u001b[0m \u001b[32m━━━━━━━━━━━━━━━━━━━━\u001b[0m\u001b[37m\u001b[0m \u001b[1m2s\u001b[0m 4ms/step - accuracy: 0.4579 - loss: 2.0516 - val_accuracy: 0.2209 - val_loss: 3.9262\n",
            "Epoch 49/50\n",
            "\u001b[1m391/391\u001b[0m \u001b[32m━━━━━━━━━━━━━━━━━━━━\u001b[0m\u001b[37m\u001b[0m \u001b[1m2s\u001b[0m 3ms/step - accuracy: 0.4619 - loss: 2.0311 - val_accuracy: 0.2204 - val_loss: 3.9771\n",
            "Epoch 50/50\n",
            "\u001b[1m391/391\u001b[0m \u001b[32m━━━━━━━━━━━━━━━━━━━━\u001b[0m\u001b[37m\u001b[0m \u001b[1m1s\u001b[0m 3ms/step - accuracy: 0.4644 - loss: 2.0272 - val_accuracy: 0.2208 - val_loss: 3.9907\n"
          ]
        }
      ],
      "source": [
        "# Convert target variables to one-hot encoding\n",
        "y_train = tf.keras.utils.to_categorical(y_train, num_classes=100)\n",
        "y_test = tf.keras.utils.to_categorical(y_test, num_classes=100)\n",
        "\n",
        "# Compile the model\n",
        "model.compile(optimizer='adam', loss='categorical_crossentropy', metrics=['accuracy'])\n",
        "\n",
        "# Train the model\n",
        "trained = model.fit(X_train, y_train, epochs=50, batch_size=128, validation_data=(X_test, y_test))"
      ]
    },
    {
      "cell_type": "code",
      "execution_count": 7,
      "metadata": {
        "id": "i4o8fa1REY1R"
      },
      "outputs": [],
      "source": [
        "import pandas as pd\n",
        "import numpy as np\n",
        "import matplotlib.pyplot as plt\n",
        "import seaborn as sns"
      ]
    },
    {
      "cell_type": "code",
      "execution_count": 8,
      "metadata": {
        "id": "Yy4UgfqwDC_4",
        "colab": {
          "base_uri": "https://localhost:8080/",
          "height": 559
        },
        "outputId": "5ea922dc-8d2a-4bf9-d007-58a811c2fec4"
      },
      "outputs": [
        {
          "output_type": "execute_result",
          "data": {
            "text/plain": [
              "Text(0.5, 0, 'Epoch')"
            ]
          },
          "metadata": {},
          "execution_count": 8
        },
        {
          "output_type": "display_data",
          "data": {
            "text/plain": [
              "<Figure size 1000x600 with 1 Axes>"
            ],
            "image/png": "[encoded data removed]"
          },
          "metadata": {}
        }
      ],
      "source": [
        "plt.figure(figsize=(10, 6))\n",
        "plt.plot(trained.history['accuracy'], label='Training accuracy')\n",
        "plt.plot(trained.history['val_accuracy'], label='Validation accuracy')\n",
        "plt.xlabel('Epoch')"
      ]
    },
    {
      "cell_type": "code",
      "execution_count": 9,
      "metadata": {
        "id": "HdAQdsxeE3cs"
      },
      "outputs": [],
      "source": [
        "from sklearn.metrics import accuracy_score, precision_score, recall_score, f1_score, classification_report"
      ]
    },
    {
      "cell_type": "code",
      "execution_count": 12,
      "metadata": {
        "id": "KA1gDtbNEbwG",
        "colab": {
          "base_uri": "https://localhost:8080/"
        },
        "outputId": "9f531992-6467-4158-84d2-5ea27b6dcc30"
      },
      "outputs": [
        {
          "output_type": "stream",
          "name": "stdout",
          "text": [
            "\u001b[1m313/313\u001b[0m \u001b[32m━━━━━━━━━━━━━━━━━━━━\u001b[0m\u001b[37m\u001b[0m \u001b[1m1s\u001b[0m 3ms/step\n",
            "Accuracy: 0.2208\n",
            "Precision: 0.2248067051916031\n",
            "Recall: 0.2208\n",
            "F1 Score: 0.21760409605620962\n",
            "\n",
            "Classification Report:\n",
            "              precision    recall  f1-score   support\n",
            "\n",
            "           0       0.52      0.44      0.48       100\n",
            "           1       0.24      0.28      0.26       100\n",
            "           2       0.19      0.17      0.18       100\n",
            "           3       0.16      0.15      0.15       100\n",
            "           4       0.10      0.10      0.10       100\n",
            "           5       0.17      0.21      0.19       100\n",
            "           6       0.20      0.18      0.19       100\n",
            "           7       0.27      0.26      0.27       100\n",
            "           8       0.15      0.25      0.19       100\n",
            "           9       0.34      0.28      0.31       100\n",
            "          10       0.09      0.04      0.06       100\n",
            "          11       0.08      0.09      0.09       100\n",
            "          12       0.21      0.22      0.21       100\n",
            "          13       0.17      0.13      0.15       100\n",
            "          14       0.19      0.18      0.18       100\n",
            "          15       0.16      0.09      0.11       100\n",
            "          16       0.22      0.19      0.20       100\n",
            "          17       0.35      0.41      0.38       100\n",
            "          18       0.19      0.22      0.21       100\n",
            "          19       0.16      0.14      0.15       100\n",
            "          20       0.44      0.40      0.42       100\n",
            "          21       0.29      0.36      0.32       100\n",
            "          22       0.26      0.19      0.22       100\n",
            "          23       0.42      0.26      0.32       100\n",
            "          24       0.45      0.41      0.43       100\n",
            "          25       0.17      0.11      0.13       100\n",
            "          26       0.27      0.12      0.17       100\n",
            "          27       0.11      0.13      0.12       100\n",
            "          28       0.39      0.29      0.33       100\n",
            "          29       0.14      0.24      0.18       100\n",
            "          30       0.27      0.44      0.34       100\n",
            "          31       0.14      0.16      0.15       100\n",
            "          32       0.21      0.18      0.19       100\n",
            "          33       0.16      0.10      0.12       100\n",
            "          34       0.15      0.26      0.19       100\n",
            "          35       0.10      0.12      0.11       100\n",
            "          36       0.17      0.29      0.21       100\n",
            "          37       0.11      0.07      0.08       100\n",
            "          38       0.12      0.16      0.14       100\n",
            "          39       0.20      0.20      0.20       100\n",
            "          40       0.19      0.18      0.18       100\n",
            "          41       0.43      0.47      0.45       100\n",
            "          42       0.11      0.27      0.16       100\n",
            "          43       0.12      0.20      0.15       100\n",
            "          44       0.22      0.13      0.16       100\n",
            "          45       0.17      0.10      0.12       100\n",
            "          46       0.10      0.11      0.10       100\n",
            "          47       0.33      0.33      0.33       100\n",
            "          48       0.29      0.29      0.29       100\n",
            "          49       0.27      0.17      0.21       100\n",
            "          50       0.09      0.06      0.07       100\n",
            "          51       0.15      0.15      0.15       100\n",
            "          52       0.48      0.56      0.52       100\n",
            "          53       0.44      0.49      0.46       100\n",
            "          54       0.26      0.24      0.25       100\n",
            "          55       0.03      0.02      0.02       100\n",
            "          56       0.29      0.28      0.28       100\n",
            "          57       0.17      0.19      0.18       100\n",
            "          58       0.22      0.17      0.19       100\n",
            "          59       0.20      0.24      0.22       100\n",
            "          60       0.50      0.60      0.55       100\n",
            "          61       0.38      0.38      0.38       100\n",
            "          62       0.38      0.42      0.40       100\n",
            "          63       0.28      0.21      0.24       100\n",
            "          64       0.05      0.06      0.06       100\n",
            "          65       0.09      0.06      0.07       100\n",
            "          66       0.09      0.10      0.10       100\n",
            "          67       0.30      0.17      0.22       100\n",
            "          68       0.45      0.51      0.48       100\n",
            "          69       0.31      0.30      0.31       100\n",
            "          70       0.35      0.25      0.29       100\n",
            "          71       0.32      0.47      0.38       100\n",
            "          72       0.15      0.05      0.08       100\n",
            "          73       0.35      0.14      0.20       100\n",
            "          74       0.10      0.11      0.11       100\n",
            "          75       0.34      0.37      0.36       100\n",
            "          76       0.43      0.38      0.40       100\n",
            "          77       0.09      0.06      0.07       100\n",
            "          78       0.12      0.06      0.08       100\n",
            "          79       0.14      0.13      0.13       100\n",
            "          80       0.04      0.04      0.04       100\n",
            "          81       0.07      0.07      0.07       100\n",
            "          82       0.52      0.51      0.52       100\n",
            "          83       0.27      0.17      0.21       100\n",
            "          84       0.07      0.08      0.08       100\n",
            "          85       0.26      0.30      0.28       100\n",
            "          86       0.26      0.40      0.31       100\n",
            "          87       0.18      0.13      0.15       100\n",
            "          88       0.04      0.05      0.05       100\n",
            "          89       0.24      0.28      0.26       100\n",
            "          90       0.10      0.08      0.09       100\n",
            "          91       0.42      0.30      0.35       100\n",
            "          92       0.19      0.19      0.19       100\n",
            "          93       0.17      0.16      0.16       100\n",
            "          94       0.29      0.38      0.33       100\n",
            "          95       0.34      0.25      0.29       100\n",
            "          96       0.17      0.13      0.15       100\n",
            "          97       0.13      0.22      0.16       100\n",
            "          98       0.06      0.07      0.07       100\n",
            "          99       0.17      0.27      0.21       100\n",
            "\n",
            "    accuracy                           0.22     10000\n",
            "   macro avg       0.22      0.22      0.22     10000\n",
            "weighted avg       0.22      0.22      0.22     10000\n",
            "\n"
          ]
        }
      ],
      "source": [
        "y_pred = model.predict(X_test)\n",
        "y_pred = np.argmax(y_pred, axis=1) # Get the predicted class labels\n",
        "\n",
        "# Convert y_test back to class labels from one-hot encoding\n",
        "y_test_labels = np.argmax(y_test, axis=1)\n",
        "\n",
        "# Now use y_test_labels instead of y_test for metric calculations\n",
        "accuracy = accuracy_score(y_test_labels, y_pred)\n",
        "precision = precision_score(y_test_labels, y_pred, average='weighted') # Use 'weighted' for multiclass\n",
        "recall = recall_score(y_test_labels, y_pred, average='weighted') # Use 'weighted' for multiclass\n",
        "f1 = f1_score(y_test_labels, y_pred, average='weighted') # Use 'weighted' for multiclass\n",
        "\n",
        "# Print the classification metrics\n",
        "print(f'Accuracy: {accuracy}')\n",
        "print(f'Precision: {precision}')\n",
        "print(f'Recall: {recall}')\n",
        "print(f'F1 Score: {f1}')\n",
        "\n",
        "# Print the classification report\n",
        "print('\\nClassification Report:')\n",
        "print(classification_report(y_test_labels, y_pred))"
      ]
    },
    {
      "cell_type": "code",
      "execution_count": null,
      "metadata": {
        "id": "gqlK9r9vE58U"
      },
      "outputs": [],
      "source": []
    }
  ],
  "metadata": {
    "accelerator": "GPU",
    "colab": {
      "gpuType": "T4",
      "provenance": []
    },
    "kernelspec": {
      "display_name": "Python 3",
      "name": "python3"
    },
    "language_info": {
      "name": "python"
    }
  },
  "nbformat": 4,
  "nbformat_minor": 0
}